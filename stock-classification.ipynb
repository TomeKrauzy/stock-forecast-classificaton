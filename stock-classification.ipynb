{
 "cells": [
  {
   "cell_type": "code",
   "execution_count": 1,
   "id": "67b2352d",
   "metadata": {},
   "outputs": [],
   "source": [
    "import yfinance as yf\n",
    "import pandas as pd\n",
    "import numpy as np\n",
    "import matplotlib.pyplot as plt\n",
    "import warnings\n",
    "warnings.filterwarnings('ignore')"
   ]
  },
  {
   "cell_type": "code",
   "execution_count": 2,
   "id": "91700dd1",
   "metadata": {},
   "outputs": [],
   "source": [
    "starting_period = \"2011-01-01\"\n",
    "end_period = '2023-01-01'\n",
    "ticker = 'GOOG'"
   ]
  },
  {
   "cell_type": "code",
   "execution_count": 3,
   "id": "b8c548f3",
   "metadata": {
    "scrolled": false
   },
   "outputs": [
    {
     "name": "stdout",
     "output_type": "stream",
     "text": [
      "[*********************100%***********************]  1 of 1 completed\n"
     ]
    },
    {
     "data": {
      "image/png": "[encoded data removed]",
      "text/plain": [
       "<Figure size 640x480 with 1 Axes>"
      ]
     },
     "metadata": {},
     "output_type": "display_data"
    }
   ],
   "source": [
    "raw_data = yf.download(tickers=ticker, start=starting_period, end=end_period)\n",
    "plt.plot(raw_data.index, raw_data['Close'])\n",
    "plt.title(ticker)\n",
    "plt.ylabel('Close[$]',fontsize=12)\n",
    "plt.show()"
   ]
  },
  {
   "cell_type": "markdown",
   "id": "c8bbb885",
   "metadata": {},
   "source": [
    "### Making buy/sell labels for data"
   ]
  },
  {
   "cell_type": "code",
   "execution_count": 4,
   "id": "7527197c",
   "metadata": {},
   "outputs": [],
   "source": [
    "df = raw_data.reset_index()\n",
    "buy_sell = []\n",
    "\n",
    "# in how much + days we want to act on signal.\n",
    "day_offset = 10\n",
    "\n",
    "for i in range(0,len(df)- day_offset):\n",
    "    \n",
    "    # check whether return was positive/negative\n",
    "    stopa_zwrotu = df.iloc[i + day_offset]['Close']/ df.iloc[i]['Close'] - 1 \n",
    "    if stopa_zwrotu > 0.0:\n",
    "        buy_sell.append(1)\n",
    "    else:\n",
    "        buy_sell.append(0)"
   ]
  },
  {
   "cell_type": "code",
   "execution_count": 5,
   "id": "222ee6a7",
   "metadata": {},
   "outputs": [],
   "source": [
    "df_labeled = df.iloc[0:len(df)-10]\n",
    "df_labeled['Return'] = df_labeled['Close']/df_labeled['Open'] - 1\n",
    "df_labeled['Buy/Sell'] = buy_sell"
   ]
  },
  {
   "cell_type": "code",
   "execution_count": 6,
   "id": "4da44782",
   "metadata": {},
   "outputs": [
    {
     "data": {
      "text/html": [
       "<div>\n",
       "<style scoped>\n",
       "    .dataframe tbody tr th:only-of-type {\n",
       "        vertical-align: middle;\n",
       "    }\n",
       "\n",
       "    .dataframe tbody tr th {\n",
       "        vertical-align: top;\n",
       "    }\n",
       "\n",
       "    .dataframe thead th {\n",
       "        text-align: right;\n",
       "    }\n",
       "</style>\n",
       "<table border=\"1\" class=\"dataframe\">\n",
       "  <thead>\n",
       "    <tr style=\"text-align: right;\">\n",
       "      <th></th>\n",
       "      <th>Date</th>\n",
       "      <th>Open</th>\n",
       "      <th>High</th>\n",
       "      <th>Low</th>\n",
       "      <th>Close</th>\n",
       "      <th>Adj Close</th>\n",
       "      <th>Volume</th>\n",
       "      <th>Return</th>\n",
       "      <th>Buy/Sell</th>\n",
       "    </tr>\n",
       "  </thead>\n",
       "  <tbody>\n",
       "    <tr>\n",
       "      <th>0</th>\n",
       "      <td>2011-01-03</td>\n",
       "      <td>14.856315</td>\n",
       "      <td>15.083214</td>\n",
       "      <td>14.856315</td>\n",
       "      <td>15.052330</td>\n",
       "      <td>15.052330</td>\n",
       "      <td>94962614</td>\n",
       "      <td>0.013194</td>\n",
       "      <td>1</td>\n",
       "    </tr>\n",
       "    <tr>\n",
       "      <th>1</th>\n",
       "      <td>2011-01-04</td>\n",
       "      <td>15.083962</td>\n",
       "      <td>15.097909</td>\n",
       "      <td>14.946975</td>\n",
       "      <td>14.996788</td>\n",
       "      <td>14.996788</td>\n",
       "      <td>73253547</td>\n",
       "      <td>-0.005779</td>\n",
       "      <td>1</td>\n",
       "    </tr>\n",
       "    <tr>\n",
       "      <th>2</th>\n",
       "      <td>2011-01-05</td>\n",
       "      <td>14.945730</td>\n",
       "      <td>15.201272</td>\n",
       "      <td>14.945232</td>\n",
       "      <td>15.169890</td>\n",
       "      <td>15.169890</td>\n",
       "      <td>101671667</td>\n",
       "      <td>0.014998</td>\n",
       "      <td>1</td>\n",
       "    </tr>\n",
       "    <tr>\n",
       "      <th>3</th>\n",
       "      <td>2011-01-06</td>\n",
       "      <td>15.209989</td>\n",
       "      <td>15.403016</td>\n",
       "      <td>15.194298</td>\n",
       "      <td>15.280226</td>\n",
       "      <td>15.280226</td>\n",
       "      <td>82620526</td>\n",
       "      <td>0.004618</td>\n",
       "      <td>0</td>\n",
       "    </tr>\n",
       "    <tr>\n",
       "      <th>4</th>\n",
       "      <td>2011-01-07</td>\n",
       "      <td>15.340251</td>\n",
       "      <td>15.398533</td>\n",
       "      <td>15.196291</td>\n",
       "      <td>15.353451</td>\n",
       "      <td>15.353451</td>\n",
       "      <td>84363033</td>\n",
       "      <td>0.000860</td>\n",
       "      <td>0</td>\n",
       "    </tr>\n",
       "  </tbody>\n",
       "</table>\n",
       "</div>"
      ],
      "text/plain": [
       "        Date       Open       High        Low      Close  Adj Close  \\\n",
       "0 2011-01-03  14.856315  15.083214  14.856315  15.052330  15.052330   \n",
       "1 2011-01-04  15.083962  15.097909  14.946975  14.996788  14.996788   \n",
       "2 2011-01-05  14.945730  15.201272  14.945232  15.169890  15.169890   \n",
       "3 2011-01-06  15.209989  15.403016  15.194298  15.280226  15.280226   \n",
       "4 2011-01-07  15.340251  15.398533  15.196291  15.353451  15.353451   \n",
       "\n",
       "      Volume    Return  Buy/Sell  \n",
       "0   94962614  0.013194         1  \n",
       "1   73253547 -0.005779         1  \n",
       "2  101671667  0.014998         1  \n",
       "3   82620526  0.004618         0  \n",
       "4   84363033  0.000860         0  "
      ]
     },
     "execution_count": 6,
     "metadata": {},
     "output_type": "execute_result"
    }
   ],
   "source": [
    "df_labeled.head()"
   ]
  },
  {
   "cell_type": "markdown",
   "id": "fc9d09d9",
   "metadata": {},
   "source": [
    "### Preparing lagged data_frame for ML model"
   ]
  },
  {
   "cell_type": "code",
   "execution_count": 7,
   "id": "96bb3713",
   "metadata": {
    "scrolled": true
   },
   "outputs": [],
   "source": [
    "# determins t-n period eg. 7 means that data from t-7 days are considered as input to model\n",
    "historical_offset = 7\n",
    "volatility_offset = 30\n",
    "\n",
    "data = {'Date': [], 'Buy/Sell': [], f'Volatility{volatility_offset}': [], f'Mean{historical_offset}': [], f'max-min{historical_offset}': []}\n",
    "variables = ['Close', 'Open', 'High', 'Low', 'Volume']\n",
    "\n",
    "# adds t-n varaibles to data dictionary\n",
    "for var in variables:  \n",
    "    for i in range(0, historical_offset):\n",
    "        var_label = f't-{i}_{var.lower()}'\n",
    "        data[var_label] = []\n",
    "\n",
    "# fills data dictionary and creates data set for ML model       \n",
    "for row in range(volatility_offset, len(df_labeled)):\n",
    "\n",
    "    # date\n",
    "    date = df_labeled.iloc[row]['Date']\n",
    "    data['Date'].append(date)\n",
    "    \n",
    "    # buy/sell\n",
    "    signal = df_labeled.iloc[row]['Buy/Sell']\n",
    "    data['Buy/Sell'].append(signal)\n",
    "    \n",
    "    # mean\n",
    "    window_data = df_labeled.iloc[(row - historical_offset): row]\n",
    "    mean = np.mean(window_data['Return'])\n",
    "    data[f'Mean{historical_offset}'].append(mean)\n",
    "    \n",
    "    # volatility\n",
    "    window_data_volatility = df_labeled.iloc[(row - volatility_offset): row]\n",
    "    std = np.std(window_data['Return'])\n",
    "    data[f'Volatility{volatility_offset}'].append(std)\n",
    "    \n",
    "    # delta price |max - min|\n",
    "    delta_price = (window_data['Return'].max() - window_data['Return'].min())\n",
    "    data[f'max-min{historical_offset}'].append(delta_price)\n",
    "    \n",
    "    \n",
    "    # other variables like t-0_close, t-2_low etc.\n",
    "    for var in variables:\n",
    "        for i in range(0, historical_offset):\n",
    "            label = label = f't-{i}_{var.lower()}'\n",
    "            value = df_labeled.iloc[row - i][var]\n",
    "            data[label].append(value)\n",
    "            \n",
    "data_for_model = pd.DataFrame(data)\n",
    "\n",
    "# adds weekday variable\n",
    "data_for_model['day_of_week'] = data_for_model['Date'].dt.weekday"
   ]
  },
  {
   "cell_type": "code",
   "execution_count": 8,
   "id": "42904803",
   "metadata": {},
   "outputs": [
    {
     "data": {
      "text/html": [
       "<div>\n",
       "<style scoped>\n",
       "    .dataframe tbody tr th:only-of-type {\n",
       "        vertical-align: middle;\n",
       "    }\n",
       "\n",
       "    .dataframe tbody tr th {\n",
       "        vertical-align: top;\n",
       "    }\n",
       "\n",
       "    .dataframe thead th {\n",
       "        text-align: right;\n",
       "    }\n",
       "</style>\n",
       "<table border=\"1\" class=\"dataframe\">\n",
       "  <thead>\n",
       "    <tr style=\"text-align: right;\">\n",
       "      <th></th>\n",
       "      <th>Date</th>\n",
       "      <th>Buy/Sell</th>\n",
       "      <th>Volatility30</th>\n",
       "      <th>Mean7</th>\n",
       "      <th>max-min7</th>\n",
       "      <th>t-0_close</th>\n",
       "      <th>t-1_close</th>\n",
       "      <th>t-2_close</th>\n",
       "      <th>t-3_close</th>\n",
       "      <th>t-4_close</th>\n",
       "      <th>...</th>\n",
       "      <th>t-5_low</th>\n",
       "      <th>t-6_low</th>\n",
       "      <th>t-0_volume</th>\n",
       "      <th>t-1_volume</th>\n",
       "      <th>t-2_volume</th>\n",
       "      <th>t-3_volume</th>\n",
       "      <th>t-4_volume</th>\n",
       "      <th>t-5_volume</th>\n",
       "      <th>t-6_volume</th>\n",
       "      <th>day_of_week</th>\n",
       "    </tr>\n",
       "  </thead>\n",
       "  <tbody>\n",
       "    <tr>\n",
       "      <th>0</th>\n",
       "      <td>2011-02-15</td>\n",
       "      <td>0</td>\n",
       "      <td>0.005389</td>\n",
       "      <td>0.006063</td>\n",
       "      <td>0.018049</td>\n",
       "      <td>15.545482</td>\n",
       "      <td>15.645108</td>\n",
       "      <td>15.554199</td>\n",
       "      <td>15.353451</td>\n",
       "      <td>15.354946</td>\n",
       "      <td>...</td>\n",
       "      <td>15.305382</td>\n",
       "      <td>15.173376</td>\n",
       "      <td>83993653</td>\n",
       "      <td>85439051</td>\n",
       "      <td>103984303</td>\n",
       "      <td>93725996</td>\n",
       "      <td>73976246</td>\n",
       "      <td>68050116</td>\n",
       "      <td>72253814</td>\n",
       "      <td>1</td>\n",
       "    </tr>\n",
       "  </tbody>\n",
       "</table>\n",
       "<p>1 rows × 41 columns</p>\n",
       "</div>"
      ],
      "text/plain": [
       "        Date  Buy/Sell  Volatility30     Mean7  max-min7  t-0_close  \\\n",
       "0 2011-02-15         0      0.005389  0.006063  0.018049  15.545482   \n",
       "\n",
       "   t-1_close  t-2_close  t-3_close  t-4_close  ...    t-5_low    t-6_low  \\\n",
       "0  15.645108  15.554199  15.353451  15.354946  ...  15.305382  15.173376   \n",
       "\n",
       "   t-0_volume  t-1_volume  t-2_volume  t-3_volume  t-4_volume  t-5_volume  \\\n",
       "0    83993653    85439051   103984303    93725996    73976246    68050116   \n",
       "\n",
       "   t-6_volume  day_of_week  \n",
       "0    72253814            1  \n",
       "\n",
       "[1 rows x 41 columns]"
      ]
     },
     "execution_count": 8,
     "metadata": {},
     "output_type": "execute_result"
    }
   ],
   "source": [
    "data_for_model.head(1)"
   ]
  },
  {
   "cell_type": "code",
   "execution_count": 9,
   "id": "1d123aa8",
   "metadata": {},
   "outputs": [],
   "source": [
    "extra_features = ['day_of_week', f'Volatility{volatility_offset}', f'Mean{historical_offset}', f'max-min{historical_offset}']"
   ]
  },
  {
   "cell_type": "markdown",
   "id": "aa0fc9bc",
   "metadata": {},
   "source": [
    "# Time series data split"
   ]
  },
  {
   "cell_type": "code",
   "execution_count": 10,
   "id": "ce689303",
   "metadata": {},
   "outputs": [],
   "source": [
    "import matplotlib.pyplot as plt\n",
    "from sklearn.model_selection import TimeSeriesSplit\n",
    "data_for_time_series = data_for_model.set_index('Date')\n",
    "n_splits = 3\n",
    "tss = TimeSeriesSplit(n_splits = n_splits)\n",
    "X = data_for_time_series.drop(labels= extra_features + ['Buy/Sell'], axis=1)\n",
    "y = data_for_time_series['Buy/Sell']\n",
    "data_plot = []\n",
    "for train_index, test_index in tss.split(X):\n",
    "    X_train, X_test = X.iloc[train_index, :], X.iloc[test_index,:]\n",
    "    y_train, y_test = y.iloc[train_index], y.iloc[test_index]\n",
    "    data_plot.append([y_test, X_test, y_train, X_train])"
   ]
  },
  {
   "cell_type": "code",
   "execution_count": 11,
   "id": "b3447aef",
   "metadata": {
    "scrolled": false
   },
   "outputs": [
    {
     "name": "stderr",
     "output_type": "stream",
     "text": [
      "No artists with labels found to put in legend.  Note that artists whose label start with an underscore are ignored when legend() is called with no argument.\n"
     ]
    },
    {
     "data": {
      "image/png": "[encoded data removed]",
      "text/plain": [
       "<Figure size 640x480 with 3 Axes>"
      ]
     },
     "metadata": {},
     "output_type": "display_data"
    }
   ],
   "source": [
    "fig, axs = plt.subplots(3)\n",
    "fig.suptitle('Cross validation for timeseries')\n",
    "plt.subplots_adjust(left=0.1,\n",
    "                    bottom=0.1,\n",
    "                    right=0.9,\n",
    "                    top=0.9,\n",
    "                    wspace=0.4,\n",
    "                    hspace=0.4)\n",
    "line1, = axs[0].plot(data_plot[0][0].index, data_plot[0][1][f't-0_close'], color='blue')\n",
    "line2, = axs[0].plot(data_plot[0][2].index, data_plot[0][3][f't-0_close'], color='orange')\n",
    "axs[0].plot(data_plot[0][0].index, data_plot[0][1][f't-0_close'], label='X_test')\n",
    "axs[0].plot(data_plot[0][2].index, data_plot[0][3][f't-0_close'])\n",
    "axs[1].plot(data_plot[1][0].index, data_plot[1][1][f't-0_close'])\n",
    "axs[1].plot(data_plot[1][2].index, data_plot[1][3][f't-0_close'])\n",
    "axs[2].plot(data_plot[2][0].index, data_plot[2][1][f't-0_close'])\n",
    "axs[2].plot(data_plot[2][2].index, data_plot[2][3][f't-0_close'])\n",
    "\n",
    "for ax in axs:\n",
    "    for label in ax.get_xticklabels():\n",
    "        label.set_rotation(45)\n",
    "        label.set_fontsize(8)\n",
    "        \n",
    "fig.legend([line1, line2], ['test', 'train'], bbox_to_anchor=(1.25, 0.88))        \n",
    "fig.text(-0.04, 0.5, 'Close [$]', va='center', rotation='vertical')\n",
    "plt.tight_layout(pad=1.0)  # Adjust padding between and around subplots\n",
    "plt.legend()\n",
    "plt.show()"
   ]
  },
  {
   "cell_type": "markdown",
   "id": "f56eb2e7",
   "metadata": {},
   "source": [
    "# SVM model for classification"
   ]
  },
  {
   "cell_type": "code",
   "execution_count": 15,
   "id": "41a2c46f",
   "metadata": {},
   "outputs": [
    {
     "name": "stdout",
     "output_type": "stream",
     "text": [
      "Model oveall accuracy 0.5713646532438479\n"
     ]
    }
   ],
   "source": [
    "from sklearn.svm import SVC\n",
    "from sklearn.metrics import accuracy_score\n",
    "import numpy as np\n",
    "\n",
    "\n",
    "data_for_time_series = data_for_model.set_index('Date')\n",
    "n_splits = 3\n",
    "tss = TimeSeriesSplit(n_splits = n_splits)\n",
    "X = data_for_time_series.drop(labels= extra_features + ['Buy/Sell'], axis=1)\n",
    "y = data_for_time_series['Buy/Sell']\n",
    "\n",
    "accuracys = []\n",
    "\n",
    "for train_index, test_index in tss.split(X):\n",
    "    X_train, X_test = X.iloc[train_index, :], X.iloc[test_index,:]\n",
    "    y_train, y_test = y.iloc[train_index], y.iloc[test_index]\n",
    "    \n",
    "    model = SVC()\n",
    "    model.fit(X_train, y_train)\n",
    "    predictions = model.predict(X_test)\n",
    "\n",
    "\n",
    "    accuracy = accuracy_score(y_test, predictions)\n",
    "    accuracys.append(accuracy)\n",
    "\n",
    "print(f\"Model oveall accuracy {np.mean(accuracys)}\")"
   ]
  },
  {
   "cell_type": "markdown",
   "id": "67bc453b",
   "metadata": {},
   "source": [
    "### Random forest"
   ]
  },
  {
   "cell_type": "code",
   "execution_count": 17,
   "id": "f66f08ff",
   "metadata": {},
   "outputs": [],
   "source": [
    "from sklearn.ensemble import RandomForestClassifier"
   ]
  },
  {
   "cell_type": "code",
   "execution_count": 18,
   "id": "426d11c6",
   "metadata": {},
   "outputs": [
    {
     "name": "stdout",
     "output_type": "stream",
     "text": [
      "Model oveall accuracy 0.4917225950782998\n"
     ]
    }
   ],
   "source": [
    "data_for_time_series = data_for_model.set_index('Date')\n",
    "n_splits = 3\n",
    "tss = TimeSeriesSplit(n_splits = n_splits)\n",
    "X = data_for_time_series.drop(labels= extra_features + ['Buy/Sell'], axis=1)\n",
    "y = data_for_time_series['Buy/Sell']\n",
    "\n",
    "accuracys = []\n",
    "\n",
    "for train_index, test_index in tss.split(X):\n",
    "    X_train, X_test = X.iloc[train_index, :], X.iloc[test_index,:]\n",
    "    y_train, y_test = y.iloc[train_index], y.iloc[test_index]\n",
    "    \n",
    "    model = RandomForestClassifier(n_estimators=600)\n",
    "    model.fit(X_train, y_train)\n",
    "    predictions = model.predict(X_test)\n",
    "\n",
    "\n",
    "    accuracy = accuracy_score(y_test, predictions)\n",
    "    accuracys.append(accuracy)\n",
    "\n",
    "print(f\"Model oveall accuracy {np.mean(accuracys)}\")"
   ]
  },
  {
   "cell_type": "markdown",
   "id": "178e0149",
   "metadata": {},
   "source": [
    "### Adding features (from previous feature engineering)"
   ]
  },
  {
   "cell_type": "code",
   "execution_count": 23,
   "id": "35555084",
   "metadata": {},
   "outputs": [
    {
     "name": "stdout",
     "output_type": "stream",
     "text": [
      "Model oveall accuracy 0.5713646532438479\n"
     ]
    }
   ],
   "source": [
    "# SVM\n",
    "data_for_time_series = data_for_model.set_index('Date')\n",
    "n_splits = 3\n",
    "tss = TimeSeriesSplit(n_splits = n_splits)\n",
    "X = data_for_time_series.drop(labels=['Buy/Sell'], axis=1) # dropping only supervised labels instead of extra features as in previous iteretions\n",
    "y = data_for_time_series['Buy/Sell']\n",
    "\n",
    "accuracys = []\n",
    "\n",
    "for train_index, test_index in tss.split(X):\n",
    "    X_train, X_test = X.iloc[train_index, :], X.iloc[test_index,:]\n",
    "    y_train, y_test = y.iloc[train_index], y.iloc[test_index]\n",
    "    \n",
    "    model = SVC()\n",
    "    model.fit(X_train, y_train)\n",
    "    predictions = model.predict(X_test)\n",
    "\n",
    "\n",
    "    accuracy = accuracy_score(y_test, predictions)\n",
    "    accuracys.append(accuracy)\n",
    "\n",
    "print(f\"Model oveall accuracy {np.mean(accuracys)}\")"
   ]
  },
  {
   "cell_type": "code",
   "execution_count": 22,
   "id": "0b3b2c77",
   "metadata": {},
   "outputs": [
    {
     "name": "stdout",
     "output_type": "stream",
     "text": [
      "Model oveall accuracy 0.49395973154362416\n"
     ]
    }
   ],
   "source": [
    "# Random forest\n",
    "data_for_time_series = data_for_model.set_index('Date')\n",
    "n_splits = 3\n",
    "tss = TimeSeriesSplit(n_splits = n_splits)\n",
    "X = data_for_time_series.drop(labels=['Buy/Sell'], axis=1)\n",
    "y = data_for_time_series['Buy/Sell']\n",
    "\n",
    "accuracys = []\n",
    "\n",
    "for train_index, test_index in tss.split(X):\n",
    "    X_train, X_test = X.iloc[train_index, :], X.iloc[test_index,:]\n",
    "    y_train, y_test = y.iloc[train_index], y.iloc[test_index]\n",
    "    \n",
    "    model = RandomForestClassifier(n_estimators=600)\n",
    "    model.fit(X_train, y_train)\n",
    "    predictions = model.predict(X_test)\n",
    "\n",
    "\n",
    "    accuracy = accuracy_score(y_test, predictions)\n",
    "    accuracys.append(accuracy)\n",
    "\n",
    "print(f\"Model oveall accuracy {np.mean(accuracys)}\")"
   ]
  },
  {
   "cell_type": "markdown",
   "id": "3fc87ef2",
   "metadata": {},
   "source": [
    "## Hyper-parameters tuning"
   ]
  },
  {
   "cell_type": "markdown",
   "id": "d8b7c8af",
   "metadata": {},
   "source": [
    "#### RandomizedGridSearch - random forest | for computation time reasons, model is fitted only on the final split from CV (3rd plot from visualization) "
   ]
  },
  {
   "cell_type": "code",
   "execution_count": 24,
   "id": "c59f5fe6",
   "metadata": {},
   "outputs": [],
   "source": [
    "from sklearn.model_selection import RandomizedSearchCV\n",
    "# Number of trees in random forest\n",
    "n_estimators = [int(x) for x in np.linspace(start = 200, stop = 2000, num = 10)]\n",
    "# Number of features to consider at every split\n",
    "max_features = ['auto', 'sqrt']\n",
    "# Maximum number of levels in tree\n",
    "max_depth = [int(x) for x in np.linspace(10, 110, num = 11)]\n",
    "max_depth.append(None)\n",
    "# Minimum number of samples required to split a node\n",
    "min_samples_split = [2, 5, 10]\n",
    "# Minimum number of samples required at each leaf node\n",
    "min_samples_leaf = [1, 2, 4]\n",
    "# Method of selecting samples for training each tree\n",
    "bootstrap = [True, False]\n",
    "# Create the random grid\n",
    "random_grid = {'n_estimators': n_estimators,\n",
    "                'max_depth': max_depth,\n",
    "                'min_samples_split': min_samples_split,\n",
    "                'min_samples_leaf': min_samples_leaf,\n",
    "                'bootstrap': bootstrap}"
   ]
  },
  {
   "cell_type": "code",
   "execution_count": 27,
   "id": "d861c051",
   "metadata": {},
   "outputs": [
    {
     "name": "stdout",
     "output_type": "stream",
     "text": [
      "Fitting 3 folds for each of 50 candidates, totalling 150 fits\n",
      "Model oveall accuracy 0.5355704697986577\n"
     ]
    }
   ],
   "source": [
    "rfc = RandomForestClassifier()\n",
    "# search across 50 different combinations\n",
    "rfc_random_gridsearch = RandomizedSearchCV(estimator = rfc, param_distributions = random_grid, n_iter = 50, cv = 3, verbose=3, random_state=42, n_jobs = -1)\n",
    "rfc_random_gridsearch.fit(X_train, y_train)\n",
    "predictions = rfc_random_gridsearch.predict(X_test)\n",
    "accuracy = accuracy_score(y_test, predictions)\n",
    "print(f\"Model oveall accuracy {accuracy}\")"
   ]
  },
  {
   "cell_type": "markdown",
   "id": "f474c8bc",
   "metadata": {},
   "source": [
    "#### Exhaustive grid search - SVM"
   ]
  },
  {
   "cell_type": "code",
   "execution_count": 29,
   "id": "995b3c64",
   "metadata": {},
   "outputs": [
    {
     "name": "stdout",
     "output_type": "stream",
     "text": [
      "Fitting 5 folds for each of 50 candidates, totalling 250 fits\n",
      "Model oveall accuracy 0.5624161073825503\n",
      "[CV 1/3] END bootstrap=True, max_depth=100, min_samples_leaf=2, min_samples_split=10, n_estimators=200;, score=0.550 total time=   2.6s\n",
      "[CV 2/3] END bootstrap=False, max_depth=30, min_samples_leaf=2, min_samples_split=2, n_estimators=1000;, score=0.446 total time=  20.7s\n",
      "[CV 1/3] END bootstrap=False, max_depth=70, min_samples_leaf=1, min_samples_split=5, n_estimators=1800;, score=0.549 total time=  30.9s\n",
      "[CV 1/3] END bootstrap=True, max_depth=80, min_samples_leaf=2, min_samples_split=2, n_estimators=1800;, score=0.552 total time=  26.6s\n",
      "[CV 2/3] END bootstrap=True, max_depth=80, min_samples_leaf=2, min_samples_split=2, n_estimators=1800;, score=0.443 total time=  26.7s\n",
      "[CV 3/3] END bootstrap=False, max_depth=None, min_samples_leaf=1, min_samples_split=2, n_estimators=800;, score=0.587 total time=  14.9s\n",
      "[CV 2/3] END bootstrap=True, max_depth=90, min_samples_leaf=4, min_samples_split=2, n_estimators=1800;, score=0.438 total time=  26.5s\n",
      "[CV 3/3] END bootstrap=False, max_depth=70, min_samples_leaf=2, min_samples_split=10, n_estimators=600;, score=0.585 total time=  10.4s\n",
      "[CV 1/3] END bootstrap=True, max_depth=110, min_samples_leaf=1, min_samples_split=10, n_estimators=1400;, score=0.542 total time=  18.8s\n",
      "[CV 2/3] END bootstrap=True, max_depth=110, min_samples_leaf=1, min_samples_split=10, n_estimators=1400;, score=0.444 total time=  20.7s\n",
      "[CV 3/3] END bootstrap=False, max_depth=None, min_samples_leaf=4, min_samples_split=10, n_estimators=1600;, score=0.585 total time=  26.9s\n",
      "[CV 2/3] END bootstrap=False, max_depth=110, min_samples_leaf=2, min_samples_split=2, n_estimators=400;, score=0.446 total time=   8.4s\n",
      "[CV 3/3] END bootstrap=True, max_depth=20, min_samples_leaf=1, min_samples_split=2, n_estimators=1400;, score=0.584 total time=  20.2s\n",
      "[CV 2/3] END bootstrap=True, max_depth=70, min_samples_leaf=1, min_samples_split=10, n_estimators=1600;, score=0.446 total time=  35.4s\n",
      "[CV 3/3] END bootstrap=True, max_depth=20, min_samples_leaf=2, min_samples_split=5, n_estimators=1200;, score=0.584 total time=  25.0s\n",
      "[CV 1/3] END bootstrap=False, max_depth=70, min_samples_leaf=1, min_samples_split=10, n_estimators=400;, score=0.552 total time=   9.4s\n",
      "[CV 2/3] END bootstrap=False, max_depth=70, min_samples_leaf=1, min_samples_split=10, n_estimators=400;, score=0.450 total time=  12.3s\n",
      "[CV 1/3] END bootstrap=False, max_depth=90, min_samples_leaf=2, min_samples_split=5, n_estimators=1200;, score=0.550 total time=  30.1s\n",
      "[CV 3/3] END bootstrap=True, max_depth=70, min_samples_leaf=4, min_samples_split=10, n_estimators=400;, score=0.583 total time=   6.7s\n",
      "[CV 1/3] END bootstrap=False, max_depth=50, min_samples_leaf=1, min_samples_split=5, n_estimators=1200;, score=0.549 total time=  36.0s\n",
      "[CV 2/3] END bootstrap=True, max_depth=None, min_samples_leaf=4, min_samples_split=2, n_estimators=1600;, score=0.439 total time=  36.9s\n",
      "[CV 3/3] END bootstrap=False, max_depth=60, min_samples_leaf=2, min_samples_split=10, n_estimators=1400;, score=0.585 total time=  35.4s\n",
      "[CV 3/3] END bootstrap=True, max_depth=30, min_samples_leaf=4, min_samples_split=5, n_estimators=400;, score=0.584 total time=   6.8s\n",
      "[CV 1/3] END bootstrap=True, max_depth=110, min_samples_leaf=4, min_samples_split=2, n_estimators=1200;, score=0.553 total time=  20.2s\n",
      "[CV 2/3] END bootstrap=False, max_depth=20, min_samples_leaf=1, min_samples_split=5, n_estimators=2000;, score=0.443 total time=  51.0s\n",
      "[CV 1/3] END bootstrap=False, max_depth=80, min_samples_leaf=1, min_samples_split=5, n_estimators=1400;, score=0.549 total time=  36.6s\n",
      "[CV 2/3] END bootstrap=False, max_depth=80, min_samples_leaf=2, min_samples_split=2, n_estimators=1600;, score=0.446 total time=  48.8s\n",
      "[CV 3/3] END bootstrap=False, max_depth=70, min_samples_leaf=2, min_samples_split=5, n_estimators=1600;, score=0.585 total time=  35.3s\n",
      "[CV 2/3] END bootstrap=True, max_depth=60, min_samples_leaf=2, min_samples_split=10, n_estimators=1800;, score=0.442 total time=  41.7s\n",
      "[CV 2/3] END bootstrap=False, max_depth=50, min_samples_leaf=1, min_samples_split=10, n_estimators=2000;, score=0.447 total time=  57.5s\n",
      "[CV 3/3] END bootstrap=True, max_depth=80, min_samples_leaf=1, min_samples_split=2, n_estimators=200;, score=0.585 total time=   5.3s\n",
      "[CV 2/3] END bootstrap=False, max_depth=40, min_samples_leaf=2, min_samples_split=5, n_estimators=800;, score=0.443 total time=  19.0s\n",
      "[CV 3/3] END bootstrap=False, max_depth=100, min_samples_leaf=2, min_samples_split=5, n_estimators=800;, score=0.587 total time=  14.9s\n",
      "[CV 1/3] END bootstrap=True, max_depth=110, min_samples_leaf=4, min_samples_split=5, n_estimators=800;, score=0.552 total time=  11.1s\n",
      "[CV 3/3] END bootstrap=True, max_depth=110, min_samples_leaf=4, min_samples_split=5, n_estimators=800;, score=0.584 total time=  12.5s\n",
      "[CV 1/3] END bootstrap=False, max_depth=80, min_samples_leaf=2, min_samples_split=10, n_estimators=400;, score=0.550 total time=   7.5s\n",
      "[CV 2/3] END bootstrap=False, max_depth=80, min_samples_leaf=2, min_samples_split=10, n_estimators=400;, score=0.450 total time=   8.4s\n",
      "[CV 2/3] END bootstrap=True, max_depth=100, min_samples_leaf=2, min_samples_split=10, n_estimators=200;, score=0.442 total time=   2.9s\n",
      "[CV 1/3] END bootstrap=False, max_depth=10, min_samples_leaf=2, min_samples_split=10, n_estimators=200;, score=0.552 total time=   3.1s\n",
      "[CV 2/3] END bootstrap=False, max_depth=10, min_samples_leaf=2, min_samples_split=10, n_estimators=200;, score=0.452 total time=   3.2s\n",
      "[CV 3/3] END bootstrap=False, max_depth=10, min_samples_leaf=2, min_samples_split=10, n_estimators=200;, score=0.585 total time=   3.0s\n",
      "[CV 1/3] END bootstrap=False, max_depth=10, min_samples_leaf=1, min_samples_split=5, n_estimators=1200;, score=0.550 total time=  18.6s\n",
      "[CV 2/3] END bootstrap=False, max_depth=70, min_samples_leaf=1, min_samples_split=5, n_estimators=1800;, score=0.446 total time=  31.1s\n",
      "[CV 2/3] END bootstrap=False, max_depth=None, min_samples_leaf=1, min_samples_split=2, n_estimators=2000;, score=0.443 total time=  45.4s\n",
      "[CV 2/3] END bootstrap=False, max_depth=None, min_samples_leaf=1, min_samples_split=2, n_estimators=800;, score=0.442 total time=  17.1s\n",
      "[CV 2/3] END bootstrap=False, max_depth=10, min_samples_leaf=2, min_samples_split=2, n_estimators=800;, score=0.435 total time=  13.1s\n",
      "[CV 3/3] END bootstrap=True, max_depth=90, min_samples_leaf=4, min_samples_split=2, n_estimators=1800;, score=0.584 total time=  25.2s\n",
      "[CV 2/3] END bootstrap=False, max_depth=80, min_samples_leaf=1, min_samples_split=2, n_estimators=1600;, score=0.444 total time=  33.6s\n",
      "[CV 2/3] END bootstrap=False, max_depth=None, min_samples_leaf=4, min_samples_split=10, n_estimators=1600;, score=0.439 total time=  31.7s\n",
      "[CV 1/3] END bootstrap=False, max_depth=110, min_samples_leaf=2, min_samples_split=2, n_estimators=400;, score=0.550 total time=   7.3s\n",
      "[CV 3/3] END bootstrap=False, max_depth=110, min_samples_leaf=2, min_samples_split=2, n_estimators=400;, score=0.585 total time=   7.1s\n",
      "[CV 1/3] END bootstrap=False, max_depth=10, min_samples_leaf=4, min_samples_split=10, n_estimators=1000;, score=0.549 total time=  14.8s\n",
      "[CV 3/3] END bootstrap=False, max_depth=10, min_samples_leaf=4, min_samples_split=10, n_estimators=1000;, score=0.585 total time=  16.4s\n",
      "[CV 1/3] END bootstrap=True, max_depth=20, min_samples_leaf=2, min_samples_split=5, n_estimators=1200;, score=0.552 total time=  27.2s\n",
      "[CV 1/3] END bootstrap=True, max_depth=10, min_samples_leaf=1, min_samples_split=10, n_estimators=2000;, score=0.542 total time=  33.9s\n",
      "[CV 3/3] END bootstrap=False, max_depth=70, min_samples_leaf=1, min_samples_split=10, n_estimators=400;, score=0.585 total time=  10.8s\n",
      "[CV 2/3] END bootstrap=False, max_depth=90, min_samples_leaf=2, min_samples_split=5, n_estimators=1200;, score=0.444 total time=  33.6s\n",
      "[CV 2/3] END bootstrap=False, max_depth=20, min_samples_leaf=2, min_samples_split=2, n_estimators=1000;, score=0.444 total time=  32.7s\n",
      "[CV 1/3] END bootstrap=True, max_depth=None, min_samples_leaf=4, min_samples_split=2, n_estimators=1600;, score=0.553 total time=  34.2s\n",
      "[CV 2/3] END bootstrap=True, max_depth=40, min_samples_leaf=4, min_samples_split=10, n_estimators=200;, score=0.438 total time=   3.4s\n",
      "[CV 1/3] END bootstrap=False, max_depth=60, min_samples_leaf=2, min_samples_split=10, n_estimators=1400;, score=0.549 total time=  37.9s\n",
      "[CV 1/3] END bootstrap=True, max_depth=30, min_samples_leaf=4, min_samples_split=5, n_estimators=400;, score=0.550 total time=   5.7s\n",
      "[CV 1/3] END bootstrap=False, max_depth=40, min_samples_leaf=4, min_samples_split=5, n_estimators=200;, score=0.549 total time=   5.7s\n",
      "[CV 2/3] END bootstrap=True, max_depth=110, min_samples_leaf=4, min_samples_split=2, n_estimators=1200;, score=0.440 total time=  21.0s\n",
      "[CV 1/3] END bootstrap=False, max_depth=110, min_samples_leaf=1, min_samples_split=10, n_estimators=600;, score=0.550 total time=  11.4s\n",
      "[CV 2/3] END bootstrap=False, max_depth=110, min_samples_leaf=1, min_samples_split=10, n_estimators=600;, score=0.446 total time=  14.8s\n",
      "[CV 1/3] END bootstrap=True, max_depth=20, min_samples_leaf=1, min_samples_split=10, n_estimators=400;, score=0.554 total time=   6.8s\n",
      "[CV 2/3] END bootstrap=True, max_depth=20, min_samples_leaf=1, min_samples_split=10, n_estimators=400;, score=0.442 total time=   8.7s\n",
      "[CV 1/3] END bootstrap=True, max_depth=30, min_samples_leaf=1, min_samples_split=2, n_estimators=1000;, score=0.550 total time=  21.4s\n",
      "[CV 2/3] END bootstrap=False, max_depth=80, min_samples_leaf=1, min_samples_split=5, n_estimators=1400;, score=0.446 total time=  41.3s\n",
      "[CV 1/3] END bootstrap=False, max_depth=70, min_samples_leaf=2, min_samples_split=5, n_estimators=1600;, score=0.550 total time=  42.1s\n",
      "[CV 2/3] END bootstrap=False, max_depth=110, min_samples_leaf=2, min_samples_split=5, n_estimators=600;, score=0.446 total time=  13.5s\n",
      "[CV 2/3] END bootstrap=True, max_depth=50, min_samples_leaf=4, min_samples_split=2, n_estimators=600;, score=0.442 total time=  11.8s\n",
      "[CV 3/3] END bootstrap=True, max_depth=60, min_samples_leaf=2, min_samples_split=10, n_estimators=1800;, score=0.584 total time=  39.3s\n",
      "[CV 3/3] END bootstrap=False, max_depth=50, min_samples_leaf=1, min_samples_split=10, n_estimators=2000;, score=0.585 total time=  48.3s\n",
      "[CV 1/3] END bootstrap=True, max_depth=80, min_samples_leaf=1, min_samples_split=2, n_estimators=200;, score=0.549 total time=   5.1s\n",
      "[CV 2/3] END bootstrap=True, max_depth=80, min_samples_leaf=1, min_samples_split=2, n_estimators=200;, score=0.444 total time=   4.3s\n",
      "[CV 1/3] END bootstrap=False, max_depth=40, min_samples_leaf=2, min_samples_split=5, n_estimators=800;, score=0.550 total time=  18.6s\n",
      "[CV 2/3] END bootstrap=False, max_depth=100, min_samples_leaf=2, min_samples_split=5, n_estimators=800;, score=0.444 total time=  17.5s\n",
      "[CV 3/3] END bootstrap=False, max_depth=30, min_samples_leaf=2, min_samples_split=2, n_estimators=800;, score=0.585 total time=  15.7s\n",
      "[CV 3/3] END bootstrap=True, max_depth=40, min_samples_leaf=1, min_samples_split=10, n_estimators=1600;, score=0.585 total time=  24.4s\n"
     ]
    },
    {
     "name": "stdout",
     "output_type": "stream",
     "text": [
      "[CV 1/3] END bootstrap=False, max_depth=30, min_samples_leaf=2, min_samples_split=2, n_estimators=1000;, score=0.550 total time=  18.2s\n",
      "[CV 2/3] END bootstrap=False, max_depth=10, min_samples_leaf=1, min_samples_split=5, n_estimators=1200;, score=0.455 total time=  19.4s\n",
      "[CV 3/3] END bootstrap=False, max_depth=70, min_samples_leaf=1, min_samples_split=5, n_estimators=1800;, score=0.587 total time=  25.2s\n",
      "[CV 3/3] END bootstrap=False, max_depth=None, min_samples_leaf=1, min_samples_split=2, n_estimators=2000;, score=0.587 total time=  39.2s\n",
      "[CV 3/3] END bootstrap=True, max_depth=80, min_samples_leaf=2, min_samples_split=2, n_estimators=1800;, score=0.584 total time=  25.6s\n",
      "[CV 3/3] END bootstrap=False, max_depth=10, min_samples_leaf=2, min_samples_split=2, n_estimators=800;, score=0.585 total time=  12.4s\n",
      "[CV 1/3] END bootstrap=False, max_depth=80, min_samples_leaf=4, min_samples_split=5, n_estimators=200;, score=0.552 total time=   3.5s\n",
      "[CV 2/3] END bootstrap=False, max_depth=80, min_samples_leaf=4, min_samples_split=5, n_estimators=200;, score=0.440 total time=   4.2s\n",
      "[CV 3/3] END bootstrap=False, max_depth=80, min_samples_leaf=4, min_samples_split=5, n_estimators=200;, score=0.585 total time=   3.9s\n",
      "[CV 1/3] END bootstrap=False, max_depth=70, min_samples_leaf=2, min_samples_split=10, n_estimators=600;, score=0.550 total time=  10.8s\n",
      "[CV 1/3] END bootstrap=False, max_depth=80, min_samples_leaf=1, min_samples_split=2, n_estimators=1600;, score=0.549 total time=  29.7s\n",
      "[CV 3/3] END bootstrap=True, max_depth=110, min_samples_leaf=1, min_samples_split=10, n_estimators=1400;, score=0.585 total time=  19.6s\n",
      "[CV 1/3] END bootstrap=True, max_depth=80, min_samples_leaf=2, min_samples_split=5, n_estimators=1000;, score=0.548 total time=  13.4s\n",
      "[CV 3/3] END bootstrap=True, max_depth=80, min_samples_leaf=2, min_samples_split=5, n_estimators=1000;, score=0.585 total time=  13.9s\n",
      "[CV 2/3] END bootstrap=True, max_depth=20, min_samples_leaf=1, min_samples_split=2, n_estimators=1400;, score=0.444 total time=  21.1s\n",
      "[CV 1/3] END bootstrap=True, max_depth=70, min_samples_leaf=1, min_samples_split=10, n_estimators=1600;, score=0.553 total time=  31.3s\n",
      "[CV 2/3] END bootstrap=True, max_depth=20, min_samples_leaf=2, min_samples_split=5, n_estimators=1200;, score=0.444 total time=  26.4s\n",
      "[CV 3/3] END bootstrap=True, max_depth=10, min_samples_leaf=1, min_samples_split=10, n_estimators=2000;, score=0.581 total time=  33.7s\n",
      "[CV 1/3] END bootstrap=False, max_depth=100, min_samples_leaf=2, min_samples_split=10, n_estimators=200;, score=0.549 total time=   5.6s\n",
      "[CV 2/3] END bootstrap=False, max_depth=100, min_samples_leaf=2, min_samples_split=10, n_estimators=200;, score=0.447 total time=   6.1s\n",
      "[CV 3/3] END bootstrap=False, max_depth=100, min_samples_leaf=2, min_samples_split=10, n_estimators=200;, score=0.585 total time=   4.1s\n",
      "[CV 1/3] END bootstrap=True, max_depth=70, min_samples_leaf=4, min_samples_split=10, n_estimators=400;, score=0.554 total time=   6.7s\n",
      "[CV 2/3] END bootstrap=True, max_depth=70, min_samples_leaf=4, min_samples_split=10, n_estimators=400;, score=0.438 total time=   7.2s\n",
      "[CV 3/3] END bootstrap=False, max_depth=20, min_samples_leaf=2, min_samples_split=2, n_estimators=1000;, score=0.587 total time=  27.6s\n",
      "[CV 3/3] END bootstrap=False, max_depth=50, min_samples_leaf=1, min_samples_split=5, n_estimators=1200;, score=0.587 total time=  37.1s\n",
      "[CV 1/3] END bootstrap=True, max_depth=40, min_samples_leaf=4, min_samples_split=10, n_estimators=200;, score=0.552 total time=   3.2s\n",
      "[CV 3/3] END bootstrap=True, max_depth=40, min_samples_leaf=4, min_samples_split=10, n_estimators=200;, score=0.585 total time=   3.7s\n",
      "[CV 2/3] END bootstrap=False, max_depth=60, min_samples_leaf=2, min_samples_split=10, n_estimators=1400;, score=0.447 total time=  41.3s\n",
      "[CV 2/3] END bootstrap=False, max_depth=40, min_samples_leaf=4, min_samples_split=5, n_estimators=200;, score=0.440 total time=   6.8s\n",
      "[CV 3/3] END bootstrap=True, max_depth=110, min_samples_leaf=4, min_samples_split=2, n_estimators=1200;, score=0.584 total time=  19.5s\n",
      "[CV 3/3] END bootstrap=False, max_depth=20, min_samples_leaf=1, min_samples_split=5, n_estimators=2000;, score=0.587 total time=  44.2s\n",
      "[CV 2/3] END bootstrap=True, max_depth=30, min_samples_leaf=1, min_samples_split=2, n_estimators=1000;, score=0.447 total time=  22.8s\n",
      "[CV 3/3] END bootstrap=False, max_depth=80, min_samples_leaf=1, min_samples_split=5, n_estimators=1400;, score=0.587 total time=  35.9s\n",
      "[CV 3/3] END bootstrap=False, max_depth=80, min_samples_leaf=2, min_samples_split=2, n_estimators=1600;, score=0.587 total time=  41.5s\n",
      "[CV 1/3] END bootstrap=False, max_depth=110, min_samples_leaf=2, min_samples_split=5, n_estimators=600;, score=0.550 total time=  12.2s\n",
      "[CV 1/3] END bootstrap=True, max_depth=50, min_samples_leaf=4, min_samples_split=2, n_estimators=600;, score=0.553 total time=   8.6s\n",
      "[CV 3/3] END bootstrap=True, max_depth=50, min_samples_leaf=4, min_samples_split=2, n_estimators=600;, score=0.584 total time=  11.9s\n",
      "[CV 1/3] END bootstrap=False, max_depth=30, min_samples_leaf=4, min_samples_split=5, n_estimators=400;, score=0.550 total time=  10.9s\n",
      "[CV 2/3] END bootstrap=False, max_depth=30, min_samples_leaf=4, min_samples_split=5, n_estimators=400;, score=0.444 total time=  12.4s\n",
      "[CV 3/3] END bootstrap=False, max_depth=30, min_samples_leaf=4, min_samples_split=5, n_estimators=400;, score=0.585 total time=  11.4s\n",
      "[CV 1/3] END bootstrap=False, max_depth=100, min_samples_leaf=2, min_samples_split=5, n_estimators=1200;, score=0.549 total time=  30.0s\n",
      "[CV 2/3] END bootstrap=False, max_depth=100, min_samples_leaf=2, min_samples_split=5, n_estimators=1200;, score=0.443 total time=  34.9s\n",
      "[CV 3/3] END bootstrap=False, max_depth=40, min_samples_leaf=2, min_samples_split=5, n_estimators=800;, score=0.587 total time=  15.6s\n",
      "[CV 1/3] END bootstrap=False, max_depth=30, min_samples_leaf=2, min_samples_split=2, n_estimators=800;, score=0.549 total time=  15.3s\n",
      "[CV 2/3] END bootstrap=True, max_depth=110, min_samples_leaf=4, min_samples_split=5, n_estimators=800;, score=0.438 total time=  12.8s\n",
      "[CV 2/3] END bootstrap=True, max_depth=40, min_samples_leaf=1, min_samples_split=10, n_estimators=1600;, score=0.447 total time=  25.7s\n",
      "[CV 3/3] END bootstrap=True, max_depth=100, min_samples_leaf=2, min_samples_split=10, n_estimators=200;, score=0.584 total time=   2.8s\n",
      "[CV 3/3] END bootstrap=False, max_depth=30, min_samples_leaf=2, min_samples_split=2, n_estimators=1000;, score=0.587 total time=  17.8s\n",
      "[CV 3/3] END bootstrap=False, max_depth=10, min_samples_leaf=1, min_samples_split=5, n_estimators=1200;, score=0.587 total time=  18.3s\n",
      "[CV 1/3] END bootstrap=False, max_depth=None, min_samples_leaf=1, min_samples_split=2, n_estimators=2000;, score=0.549 total time=  39.9s\n",
      "[CV 1/3] END bootstrap=False, max_depth=None, min_samples_leaf=1, min_samples_split=2, n_estimators=800;, score=0.549 total time=  15.2s\n",
      "[CV 1/3] END bootstrap=False, max_depth=10, min_samples_leaf=2, min_samples_split=2, n_estimators=800;, score=0.550 total time=  12.4s\n",
      "[CV 1/3] END bootstrap=True, max_depth=90, min_samples_leaf=4, min_samples_split=2, n_estimators=1800;, score=0.552 total time=  24.2s\n",
      "[CV 2/3] END bootstrap=False, max_depth=70, min_samples_leaf=2, min_samples_split=10, n_estimators=600;, score=0.448 total time=  12.2s\n",
      "[CV 3/3] END bootstrap=False, max_depth=80, min_samples_leaf=1, min_samples_split=2, n_estimators=1600;, score=0.587 total time=  29.1s\n",
      "[CV 1/3] END bootstrap=False, max_depth=None, min_samples_leaf=4, min_samples_split=10, n_estimators=1600;, score=0.550 total time=  27.4s\n",
      "[CV 2/3] END bootstrap=True, max_depth=80, min_samples_leaf=2, min_samples_split=5, n_estimators=1000;, score=0.440 total time=  14.6s\n",
      "[CV 1/3] END bootstrap=True, max_depth=20, min_samples_leaf=1, min_samples_split=2, n_estimators=1400;, score=0.548 total time=  19.2s\n",
      "[CV 2/3] END bootstrap=False, max_depth=10, min_samples_leaf=4, min_samples_split=10, n_estimators=1000;, score=0.462 total time=  17.6s\n",
      "[CV 3/3] END bootstrap=True, max_depth=70, min_samples_leaf=1, min_samples_split=10, n_estimators=1600;, score=0.585 total time=  37.6s\n",
      "[CV 2/3] END bootstrap=True, max_depth=10, min_samples_leaf=1, min_samples_split=10, n_estimators=2000;, score=0.450 total time=  34.9s\n",
      "[CV 3/3] END bootstrap=False, max_depth=90, min_samples_leaf=2, min_samples_split=5, n_estimators=1200;, score=0.587 total time=  29.3s\n",
      "[CV 1/3] END bootstrap=False, max_depth=20, min_samples_leaf=2, min_samples_split=2, n_estimators=1000;, score=0.550 total time=  25.5s\n",
      "[CV 2/3] END bootstrap=False, max_depth=50, min_samples_leaf=1, min_samples_split=5, n_estimators=1200;, score=0.447 total time=  43.5s\n",
      "[CV 3/3] END bootstrap=True, max_depth=None, min_samples_leaf=4, min_samples_split=2, n_estimators=1600;, score=0.584 total time=  32.2s\n",
      "[CV 1/3] END bootstrap=True, max_depth=None, min_samples_leaf=1, min_samples_split=5, n_estimators=200;, score=0.526 total time=   5.0s\n",
      "[CV 2/3] END bootstrap=True, max_depth=None, min_samples_leaf=1, min_samples_split=5, n_estimators=200;, score=0.444 total time=   3.6s\n",
      "[CV 3/3] END bootstrap=True, max_depth=None, min_samples_leaf=1, min_samples_split=5, n_estimators=200;, score=0.584 total time=   3.7s\n",
      "[CV 2/3] END bootstrap=True, max_depth=30, min_samples_leaf=4, min_samples_split=5, n_estimators=400;, score=0.439 total time=   7.1s\n",
      "[CV 3/3] END bootstrap=False, max_depth=40, min_samples_leaf=4, min_samples_split=5, n_estimators=200;, score=0.585 total time=   5.8s\n",
      "[CV 1/3] END bootstrap=False, max_depth=20, min_samples_leaf=1, min_samples_split=5, n_estimators=2000;, score=0.549 total time=  42.5s\n",
      "[CV 3/3] END bootstrap=False, max_depth=110, min_samples_leaf=1, min_samples_split=10, n_estimators=600;, score=0.585 total time=  12.5s\n",
      "[CV 3/3] END bootstrap=True, max_depth=20, min_samples_leaf=1, min_samples_split=10, n_estimators=400;, score=0.585 total time=  10.3s\n",
      "[CV 3/3] END bootstrap=True, max_depth=30, min_samples_leaf=1, min_samples_split=2, n_estimators=1000;, score=0.583 total time=  21.7s\n",
      "[CV 1/3] END bootstrap=False, max_depth=80, min_samples_leaf=2, min_samples_split=2, n_estimators=1600;, score=0.549 total time=  42.1s\n",
      "[CV 2/3] END bootstrap=False, max_depth=70, min_samples_leaf=2, min_samples_split=5, n_estimators=1600;, score=0.444 total time=  44.0s\n",
      "[CV 3/3] END bootstrap=False, max_depth=110, min_samples_leaf=2, min_samples_split=5, n_estimators=600;, score=0.587 total time=  12.7s\n",
      "[CV 1/3] END bootstrap=True, max_depth=60, min_samples_leaf=2, min_samples_split=10, n_estimators=1800;, score=0.556 total time=  36.7s\n",
      "[CV 1/3] END bootstrap=False, max_depth=50, min_samples_leaf=1, min_samples_split=10, n_estimators=2000;, score=0.549 total time=  50.8s\n",
      "[CV 3/3] END bootstrap=False, max_depth=100, min_samples_leaf=2, min_samples_split=5, n_estimators=1200;, score=0.587 total time=  29.3s\n",
      "[CV 1/3] END bootstrap=False, max_depth=100, min_samples_leaf=2, min_samples_split=5, n_estimators=800;, score=0.549 total time=  15.3s\n",
      "[CV 2/3] END bootstrap=False, max_depth=30, min_samples_leaf=2, min_samples_split=2, n_estimators=800;, score=0.444 total time=  17.8s\n",
      "[CV 1/3] END bootstrap=True, max_depth=40, min_samples_leaf=1, min_samples_split=10, n_estimators=1600;, score=0.542 total time=  24.0s\n",
      "[CV 3/3] END bootstrap=False, max_depth=80, min_samples_leaf=2, min_samples_split=10, n_estimators=400;, score=0.587 total time=   5.7s\n"
     ]
    }
   ],
   "source": [
    "from sklearn.model_selection import GridSearchCV\n",
    "  \n",
    "# defining parameter range\n",
    "param_grid = {'C': [0.1,1, 10, 100, 1000], # parametr, który karze za misklasyfikacje pkt, małe c luzny, duże surowy\n",
    "              'gamma': [1,0.1,0.01,0.001, 0.0001], # odległość pkt, które wpłwaja na mijesce granicy decyzyjnej, małe gamma dużo pkt ma wpły, duże gamma mało odległe pkt się liczą.\n",
    "              'kernel': ['rbf', 'sigmoid']} # funkcje jądra przedstawiają np 2 cechy za pomocą skalara, gdzie duże wartości świadczą o podobienstwie tych cech a małe o niskim podobienstwie. \n",
    "  \n",
    "grid_search = GridSearchCV(SVC(), param_grid, refit = True, verbose = 1, n_jobs=-1)\n",
    "grid_search.fit(X_train, y_train)\n",
    "grid_predictions = grid_search.predict(X_test)\n",
    "accuracy = accuracy_score(y_test, grid_predictions)\n",
    "print(f\"Model oveall accuracy {accuracy}\")"
   ]
  }
 ],
 "metadata": {
  "kernelspec": {
   "display_name": "Python 3 (ipykernel)",
   "language": "python",
   "name": "python3"
  },
  "language_info": {
   "codemirror_mode": {
    "name": "ipython",
    "version": 3
   },
   "file_extension": ".py",
   "mimetype": "text/x-python",
   "name": "python",
   "nbconvert_exporter": "python",
   "pygments_lexer": "ipython3",
   "version": "3.9.2"
  }
 },
 "nbformat": 4,
 "nbformat_minor": 5
}
